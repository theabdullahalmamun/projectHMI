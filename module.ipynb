#additional modules
pip install matplotlib
pip install seaborn
pip install pandas
pip install numpy
